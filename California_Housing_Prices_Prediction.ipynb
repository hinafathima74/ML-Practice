{
  "nbformat": 4,
  "nbformat_minor": 0,
  "metadata": {
    "colab": {
      "name": "California Housing Prices Prediction",
      "provenance": [],
      "authorship_tag": "ABX9TyN+Mj/UOCakg1zdqFOnyQ7J",
      "include_colab_link": true
    },
    "kernelspec": {
      "name": "python3",
      "display_name": "Python 3"
    },
    "language_info": {
      "name": "python"
    }
  },
  "cells": [
    {
      "cell_type": "markdown",
      "metadata": {
        "id": "view-in-github",
        "colab_type": "text"
      },
      "source": [
        "<a href=\"https://colab.research.google.com/github/hinafathima74/ML-Practice/blob/main/California_Housing_Prices_Prediction.ipynb\" target=\"_parent\"><img src=\"https://colab.research.google.com/assets/colab-badge.svg\" alt=\"Open In Colab\"/></a>"
      ]
    },
    {
      "cell_type": "code",
      "execution_count": 44,
      "metadata": {
        "id": "eXW_3kLq53gh"
      },
      "outputs": [],
      "source": [
        "import numpy as np\n",
        "import pandas as pd\n",
        "import matplotlib.pyplot as plt \n",
        "from sklearn.model_selection import train_test_split \n",
        "from sklearn.linear_model import LinearRegression \n",
        "from sklearn.metrics import mean_squared_error\n",
        "from sklearn import preprocessing\n",
        "from sklearn import svm\n",
        "import pickle"
      ]
    },
    {
      "cell_type": "code",
      "source": [
        "traindataset = pd.read_csv(\"sample_data/california_housing_test.csv\")\n",
        "testdataset=pd.read_csv(\"sample_data/california_housing_train.csv\")"
      ],
      "metadata": {
        "id": "F6fjPLjc6AXR"
      },
      "execution_count": 4,
      "outputs": []
    },
    {
      "cell_type": "code",
      "source": [
        "y=traindataset[['median_house_value']]\n",
        "x=traindataset.loc[:, traindataset.columns != 'median_house_value']\n"
      ],
      "metadata": {
        "id": "CJseHnFs6P-Q"
      },
      "execution_count": 7,
      "outputs": []
    },
    {
      "cell_type": "code",
      "source": [
        "hpp_model=LinearRegression()"
      ],
      "metadata": {
        "id": "AGYCz9I28aGv"
      },
      "execution_count": 10,
      "outputs": []
    },
    {
      "cell_type": "code",
      "source": [
        "hpp_model.fit(x,y)"
      ],
      "metadata": {
        "colab": {
          "base_uri": "https://localhost:8080/"
        },
        "id": "UC5-hSiJ9LGe",
        "outputId": "c24cf581-971c-41b6-fe5c-37371f519dbc"
      },
      "execution_count": 11,
      "outputs": [
        {
          "output_type": "execute_result",
          "data": {
            "text/plain": [
              "LinearRegression()"
            ]
          },
          "metadata": {},
          "execution_count": 11
        }
      ]
    },
    {
      "cell_type": "code",
      "source": [
        "hpp_model.coef_"
      ],
      "metadata": {
        "colab": {
          "base_uri": "https://localhost:8080/"
        },
        "id": "h3iDNLhd9XuS",
        "outputId": "9eae358c-8463-4232-899d-563b588885e0"
      },
      "execution_count": 45,
      "outputs": [
        {
          "output_type": "execute_result",
          "data": {
            "text/plain": [
              "array([[-4.30060641e+04, -4.24032361e+04,  1.18830812e+03,\n",
              "        -8.02316423e+00,  1.01482525e+02, -3.72061776e+01,\n",
              "         5.40113544e+01,  3.94729830e+04]])"
            ]
          },
          "metadata": {},
          "execution_count": 45
        }
      ]
    },
    {
      "cell_type": "code",
      "source": [
        "with open('model.pkl','wb') as f:\n",
        "    pickle.dump(hpp_model,f)\n"
      ],
      "metadata": {
        "id": "beh889kaIAZ4"
      },
      "execution_count": 46,
      "outputs": []
    },
    {
      "cell_type": "markdown",
      "source": [
        "SVM"
      ],
      "metadata": {
        "id": "qNgMwG6aBRYd"
      }
    },
    {
      "cell_type": "code",
      "source": [
        "regr = svm.SVR(kernel=\"linear\")"
      ],
      "metadata": {
        "id": "RxAyv5GaBUvk"
      },
      "execution_count": 30,
      "outputs": []
    },
    {
      "cell_type": "code",
      "source": [
        "regr.fit(x,y)"
      ],
      "metadata": {
        "colab": {
          "base_uri": "https://localhost:8080/"
        },
        "id": "3D5j15KcBUsY",
        "outputId": "e018394d-b8c2-4458-9869-ebd1c4c9359f"
      },
      "execution_count": 32,
      "outputs": [
        {
          "output_type": "stream",
          "name": "stderr",
          "text": [
            "/usr/local/lib/python3.7/dist-packages/sklearn/utils/validation.py:993: DataConversionWarning: A column-vector y was passed when a 1d array was expected. Please change the shape of y to (n_samples, ), for example using ravel().\n",
            "  y = column_or_1d(y, warn=True)\n"
          ]
        },
        {
          "output_type": "execute_result",
          "data": {
            "text/plain": [
              "SVR(kernel='linear')"
            ]
          },
          "metadata": {},
          "execution_count": 32
        }
      ]
    },
    {
      "cell_type": "code",
      "source": [
        "regr.coef_"
      ],
      "metadata": {
        "colab": {
          "base_uri": "https://localhost:8080/"
        },
        "id": "J18l9_A0DDEQ",
        "outputId": "19f7ef1a-7eb4-40c4-ddcb-7a0c28fed059"
      },
      "execution_count": 33,
      "outputs": [
        {
          "output_type": "execute_result",
          "data": {
            "text/plain": [
              "array([[  -52.45510447, -1065.88151335,  1351.03154424,    41.15273539,\n",
              "         -283.75023193,   -60.42432444,   310.91454009,  2285.25844765]])"
            ]
          },
          "metadata": {},
          "execution_count": 33
        }
      ]
    },
    {
      "cell_type": "code",
      "source": [
        ""
      ],
      "metadata": {
        "id": "jAxcmg9gDC57"
      },
      "execution_count": null,
      "outputs": []
    },
    {
      "cell_type": "code",
      "source": [
        "regr.get_params()"
      ],
      "metadata": {
        "colab": {
          "base_uri": "https://localhost:8080/"
        },
        "id": "rdtdzeVTBUpX",
        "outputId": "df58bdcf-2025-4a36-85b5-e0c662390b39"
      },
      "execution_count": 34,
      "outputs": [
        {
          "output_type": "execute_result",
          "data": {
            "text/plain": [
              "{'C': 1.0,\n",
              " 'cache_size': 200,\n",
              " 'coef0': 0.0,\n",
              " 'degree': 3,\n",
              " 'epsilon': 0.1,\n",
              " 'gamma': 'scale',\n",
              " 'kernel': 'linear',\n",
              " 'max_iter': -1,\n",
              " 'shrinking': True,\n",
              " 'tol': 0.001,\n",
              " 'verbose': False}"
            ]
          },
          "metadata": {},
          "execution_count": 34
        }
      ]
    },
    {
      "cell_type": "markdown",
      "source": [
        "Testing"
      ],
      "metadata": {
        "id": "B862Gzz-9wnM"
      }
    },
    {
      "cell_type": "code",
      "source": [
        "testy=testdataset[['median_house_value']]\n",
        "testx=testdataset.loc[:, traindataset.columns != 'median_house_value']\n"
      ],
      "metadata": {
        "id": "b3FpUiD39ib9"
      },
      "execution_count": 15,
      "outputs": []
    },
    {
      "cell_type": "code",
      "source": [
        "pred=hpp_model.predict(testx)\n",
        "mse1=mean_squared_error(testy,pred)\n",
        "RSS = round(np.sum(np.square(testy - pred)),4)\n",
        "RSE = round(np.sqrt(np.divide(RSS,(len(testy)-2))),4)\n",
        "print(\"mse1\",mse1)\n",
        "print(\"rss1\",RSS)\n",
        "print(\"rse1\",RSE)"
      ],
      "metadata": {
        "colab": {
          "base_uri": "https://localhost:8080/"
        },
        "id": "fzJZ4iFv-KUA",
        "outputId": "06117ad2-8fcb-434c-d0ab-f8eb0da4585e"
      },
      "execution_count": 43,
      "outputs": [
        {
          "output_type": "stream",
          "name": "stdout",
          "text": [
            "mse1 4833929501.686588\n",
            "rss1 median_house_value    8.217680e+13\n",
            "dtype: float64\n",
            "rse1 median_house_value    69530.5563\n",
            "dtype: float64\n"
          ]
        }
      ]
    },
    {
      "cell_type": "code",
      "source": [
        "testx.shape"
      ],
      "metadata": {
        "colab": {
          "base_uri": "https://localhost:8080/"
        },
        "id": "QjfsDhz9EsiN",
        "outputId": "884cc0ec-5505-4fdf-8cfb-dd77a4846271"
      },
      "execution_count": 39,
      "outputs": [
        {
          "output_type": "execute_result",
          "data": {
            "text/plain": [
              "(17000, 8)"
            ]
          },
          "metadata": {},
          "execution_count": 39
        }
      ]
    },
    {
      "cell_type": "code",
      "source": [
        "pred_svm=regr.predict(testx)\n",
        "print(\"mse\",mean_squared_error(testy,pred_svm))\n",
        "RSS = round(np.sum(np.square(testy.values - pred_svm)),4)\n",
        "RSE = round(np.sqrt(np.divide(RSS,(len(testy)-2))),4)\n",
        "print(\"rss\",RSS)\n",
        "print(\"rse\",RSE)"
      ],
      "metadata": {
        "colab": {
          "base_uri": "https://localhost:8080/"
        },
        "id": "VQmOur3UD4KL",
        "outputId": "6a4a35ed-9e7a-4f3c-f9dd-cde03a44da96"
      },
      "execution_count": 42,
      "outputs": [
        {
          "output_type": "stream",
          "name": "stdout",
          "text": [
            "mse 11059418469.15927\n",
            "rss 4.58184698525763e+18\n",
            "rse 16418042.6029\n"
          ]
        }
      ]
    },
    {
      "cell_type": "code",
      "source": [
        "mean_squared_error(testy,pred)"
      ],
      "metadata": {
        "colab": {
          "base_uri": "https://localhost:8080/"
        },
        "id": "mqym3txt-o4Y",
        "outputId": "9881f39e-b0e0-455f-8700-8798c001b595"
      },
      "execution_count": 17,
      "outputs": [
        {
          "output_type": "execute_result",
          "data": {
            "text/plain": [
              "4833929501.686588"
            ]
          },
          "metadata": {},
          "execution_count": 17
        }
      ]
    },
    {
      "cell_type": "code",
      "source": [
        "RSS = round(np.sum(np.square(testy - pred)),4)\n",
        "RSE = round(np.sqrt(np.divide(RSS,(len(testy)-2))),4)\n",
        "\n"
      ],
      "metadata": {
        "id": "4V-B-TjC-weI"
      },
      "execution_count": 21,
      "outputs": []
    },
    {
      "cell_type": "code",
      "source": [
        "RSS\n"
      ],
      "metadata": {
        "colab": {
          "base_uri": "https://localhost:8080/"
        },
        "id": "eKi7r2kY_QE7",
        "outputId": "caaa284d-8180-425d-d0ae-6d14172369c3"
      },
      "execution_count": 22,
      "outputs": [
        {
          "output_type": "execute_result",
          "data": {
            "text/plain": [
              "median_house_value    8.217680e+13\n",
              "dtype: float64"
            ]
          },
          "metadata": {},
          "execution_count": 22
        }
      ]
    },
    {
      "cell_type": "code",
      "source": [
        "RSE\n"
      ],
      "metadata": {
        "colab": {
          "base_uri": "https://localhost:8080/"
        },
        "id": "ZPmSsokg_TeO",
        "outputId": "1a94fb81-8dfd-4818-9218-1d151683c03b"
      },
      "execution_count": 23,
      "outputs": [
        {
          "output_type": "execute_result",
          "data": {
            "text/plain": [
              "median_house_value    69530.5563\n",
              "dtype: float64"
            ]
          },
          "metadata": {},
          "execution_count": 23
        }
      ]
    }
  ]
}